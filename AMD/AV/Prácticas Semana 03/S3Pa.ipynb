{
 "cells": [
  {
   "cell_type": "code",
   "execution_count": 1,
   "metadata": {},
   "outputs": [],
   "source": [
    "n = 1357507575086659094285098826975586889475623536687995949189493 # Clave pública\n",
    "d = 619564659328578668067833300480599438680736667593558730557717  # Clave privada\n",
    "m = 8977657576 \n"
   ]
  },
  {
   "cell_type": "code",
   "execution_count": 2,
   "metadata": {},
   "outputs": [
    {
     "name": "stdout",
     "output_type": "stream",
     "text": [
      "899050963841611675974122872471777221961672024348879921674026\n"
     ]
    }
   ],
   "source": [
    "u = Zmod(n)(m)**65537\n",
    "print(u)"
   ]
  },
  {
   "cell_type": "code",
   "execution_count": 4,
   "metadata": {},
   "outputs": [
    {
     "data": {
      "text/plain": [
       "8977657576"
      ]
     },
     "execution_count": 4,
     "metadata": {},
     "output_type": "execute_result"
    }
   ],
   "source": [
    "Zmod(n)(u)**d"
   ]
  },
  {
   "cell_type": "code",
   "execution_count": 5,
   "metadata": {},
   "outputs": [],
   "source": [
    "f = 1357507575086659094285098826973255505092422151853132911790348"
   ]
  },
  {
   "cell_type": "code",
   "execution_count": 6,
   "metadata": {},
   "outputs": [
    {
     "data": {
      "text/plain": [
       "1"
      ]
     },
     "execution_count": 6,
     "metadata": {},
     "output_type": "execute_result"
    }
   ],
   "source": [
    "(d*65537)%f"
   ]
  },
  {
   "cell_type": "code",
   "execution_count": 8,
   "metadata": {},
   "outputs": [
    {
     "data": {
      "text/plain": [
       "[   1    2|   0    0    0  1/4]\n",
       "[   0    0|   1    0    0  1/2]\n",
       "[   0    0|   0    1    0 -1/4]\n",
       "[   0    0|   0    0    1  1/4]"
      ]
     },
     "execution_count": 8,
     "metadata": {},
     "output_type": "execute_result"
    }
   ],
   "source": [
    "B = matrix(QQ,[[-2,-4],[1,2],[-1,-2],[4,8]])\n",
    "BB = block_matrix(1,2,[B,1])\n",
    "BB.echelon_form()"
   ]
  },
  {
   "cell_type": "code",
   "execution_count": 14,
   "metadata": {},
   "outputs": [
    {
     "data": {
      "text/html": [
       "<html><script type=\"math/tex; mode=display\">\\newcommand{\\Bold}[1]{\\mathbf{#1}}\\left(\\begin{array}{rr|rrrr}\n",
       "1 & 0 & 0 & 0 & \\frac{7}{5} & -\\frac{9}{5} \\\\\n",
       "0 & 1 & 0 & 0 & -\\frac{1}{5} & \\frac{2}{5} \\\\\n",
       "\\hline\n",
       " 0 & 0 & 1 & 0 & -\\frac{3}{5} & \\frac{1}{5} \\\\\n",
       "0 & 0 & 0 & 1 & -\\frac{2}{5} & -\\frac{1}{5}\n",
       "\\end{array}\\right)</script></html>"
      ],
      "text/plain": [
       "[   1    0|   0    0  7/5 -9/5]\n",
       "[   0    1|   0    0 -1/5  2/5]\n",
       "[---------+-------------------]\n",
       "[   0    0|   1    0 -3/5  1/5]\n",
       "[   0    0|   0    1 -2/5 -1/5]"
      ]
     },
     "metadata": {},
     "output_type": "display_data"
    },
    {
     "data": {
      "text/plain": [
       "[0 0]\n",
       "[0 0]"
      ]
     },
     "execution_count": 14,
     "metadata": {},
     "output_type": "execute_result"
    }
   ],
   "source": [
    "B = matrix(QQ,[[1,4],[1,5],[2,9],[1,7]])\n",
    "BB = block_matrix(1,2,[B,1])\n",
    "M = copy(BB.echelon_form())\n",
    "M.subdivide([2],[2])\n",
    "show(M)\n",
    "P = M.subdivision(0,1)\n",
    "Q = M.subdivision(1,1)\n",
    "Q*B\n"
   ]
  },
  {
   "cell_type": "code",
   "execution_count": 31,
   "metadata": {},
   "outputs": [
    {
     "data": {
      "text/plain": [
       "(c0, c1, c2, c3)"
      ]
     },
     "execution_count": 31,
     "metadata": {},
     "output_type": "execute_result"
    }
   ],
   "source": [
    "R = PolynomialRing(QQ,50,\"c\")\n",
    "R.gens()[:4]"
   ]
  },
  {
   "cell_type": "code",
   "execution_count": 32,
   "metadata": {},
   "outputs": [
    {
     "data": {
      "text/plain": [
       "[1 0]\n",
       "[0 1]"
      ]
     },
     "execution_count": 32,
     "metadata": {},
     "output_type": "execute_result"
    }
   ],
   "source": [
    "C = matrix(R,2,2,R.gens()[:4])\n",
    "(P+C*Q)*B"
   ]
  },
  {
   "cell_type": "code",
   "execution_count": 34,
   "metadata": {},
   "outputs": [
    {
     "data": {
      "text/plain": [
       "[    1     0|    0     0  -1/3   1/3]\n",
       "[    0     1|    0     0   1/3 -1/12]\n",
       "[    0     0|    1     0  -1/3  1/12]\n",
       "[    0     0|    0     1   4/3  -4/3]"
      ]
     },
     "execution_count": 34,
     "metadata": {},
     "output_type": "execute_result"
    }
   ],
   "source": [
    "A = matrix(QQ,[[0,4,1,4],[1,0,4,4]])\n",
    "BB = block_matrix(1,2,[A.T,1])\n",
    "BB.echelon_form()"
   ]
  },
  {
   "cell_type": "code",
   "execution_count": null,
   "metadata": {},
   "outputs": [],
   "source": []
  }
 ],
 "metadata": {
  "kernelspec": {
   "display_name": "SageMath 9.1",
   "language": "sage",
   "name": "sagemath"
  },
  "language_info": {
   "codemirror_mode": {
    "name": "ipython",
    "version": 3
   },
   "file_extension": ".py",
   "mimetype": "text/x-python",
   "name": "python",
   "nbconvert_exporter": "python",
   "pygments_lexer": "ipython3",
   "version": "3.7.3"
  }
 },
 "nbformat": 4,
 "nbformat_minor": 2
}
