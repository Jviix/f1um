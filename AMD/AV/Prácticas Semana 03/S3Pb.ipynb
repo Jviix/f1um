{
 "cells": [
  {
   "cell_type": "code",
   "execution_count": 7,
   "metadata": {},
   "outputs": [],
   "source": [
    "n = 1357507575086659094285098826975586889475623536687995949189493  # Clave pública\n",
    "d = 619564659328578668067833300480599438680736667593558730557717   # Clave privada\n",
    "m = 1234567345623462  # Poned aquí cualquier número que queráis más pequeño que n "
   ]
  },
  {
   "cell_type": "code",
   "execution_count": 8,
   "metadata": {},
   "outputs": [
    {
     "data": {
      "text/plain": [
       "634663686721518216984063184111843386514166408132369160072919"
      ]
     },
     "execution_count": 8,
     "metadata": {},
     "output_type": "execute_result"
    }
   ],
   "source": [
    "u = Zmod(n)(m)**65537\n",
    "u"
   ]
  },
  {
   "cell_type": "code",
   "execution_count": 9,
   "metadata": {},
   "outputs": [
    {
     "data": {
      "text/plain": [
       "1234567345623462"
      ]
     },
     "execution_count": 9,
     "metadata": {},
     "output_type": "execute_result"
    }
   ],
   "source": [
    "Zmod(n)(u)**d"
   ]
  },
  {
   "cell_type": "code",
   "execution_count": 10,
   "metadata": {},
   "outputs": [],
   "source": [
    "f = 1357507575086659094285098826973255505092422151853132911790348"
   ]
  },
  {
   "cell_type": "code",
   "execution_count": 11,
   "metadata": {},
   "outputs": [
    {
     "data": {
      "text/plain": [
       "1"
      ]
     },
     "execution_count": 11,
     "metadata": {},
     "output_type": "execute_result"
    }
   ],
   "source": [
    "(65537*d)%f"
   ]
  },
  {
   "cell_type": "code",
   "execution_count": 24,
   "metadata": {},
   "outputs": [
    {
     "data": {
      "text/html": [
       "<html><script type=\"math/tex; mode=display\">\\newcommand{\\Bold}[1]{\\mathbf{#1}}\\left(\\begin{array}{rr|rrr}\n",
       "1 & 0 & 0 & 4 & 4 \\\\\n",
       "0 & 1 & 0 & 3 & 1 \\\\\n",
       "\\hline\n",
       " 0 & 0 & 1 & 0 & 2\n",
       "\\end{array}\\right)</script></html>"
      ],
      "text/plain": [
       "[1 0|0 4 4]\n",
       "[0 1|0 3 1]\n",
       "[---+-----]\n",
       "[0 0|1 0 2]"
      ]
     },
     "metadata": {},
     "output_type": "display_data"
    },
    {
     "data": {
      "text/html": [
       "<html><script type=\"math/tex; mode=display\">\\newcommand{\\Bold}[1]{\\mathbf{#1}}\\left(\\begin{array}{rr}\n",
       "1 & 0 \\\\\n",
       "0 & 1\n",
       "\\end{array}\\right)</script></html>"
      ],
      "text/plain": [
       "[1 0]\n",
       "[0 1]"
      ]
     },
     "metadata": {},
     "output_type": "display_data"
    },
    {
     "data": {
      "text/html": [
       "<html><script type=\"math/tex; mode=display\">\\newcommand{\\Bold}[1]{\\mathbf{#1}}\\left(\\begin{array}{rr}\n",
       "0 & 0\n",
       "\\end{array}\\right)</script></html>"
      ],
      "text/plain": [
       "[0 0]"
      ]
     },
     "metadata": {},
     "output_type": "display_data"
    }
   ],
   "source": [
    "B = matrix(Zmod(5),3,2,[[3,1],[3,3],[1,2]])\n",
    "BB = block_matrix(1,2,[B,1])\n",
    "M = copy(BB.echelon_form())\n",
    "M.subdivide([2],[2])\n",
    "show(M)\n",
    "P = M.subdivision(0,1)\n",
    "Q = M.subdivision(1,1)\n",
    "show(P*B)\n",
    "show(Q*B)"
   ]
  },
  {
   "cell_type": "code",
   "execution_count": 30,
   "metadata": {},
   "outputs": [
    {
     "data": {
      "text/plain": [
       "[c0]\n",
       "[c1]"
      ]
     },
     "execution_count": 30,
     "metadata": {},
     "output_type": "execute_result"
    }
   ],
   "source": [
    "R = PolynomialRing(Zmod(5),2,\"c\")\n",
    "C = matrix(R,2,1,R.gens())\n",
    "C"
   ]
  },
  {
   "cell_type": "code",
   "execution_count": 32,
   "metadata": {},
   "outputs": [
    {
     "data": {
      "text/html": [
       "<html><script type=\"math/tex; mode=display\">\\newcommand{\\Bold}[1]{\\mathbf{#1}}\\left(\\begin{array}{rrr}\n",
       "c_{0} & 4 & 2 c_{0} + 4 \\\\\n",
       "c_{1} & 3 & 2 c_{1} + 1\n",
       "\\end{array}\\right)</script></html>"
      ],
      "text/plain": [
       "[      c0        4 2*c0 + 4]\n",
       "[      c1        3 2*c1 + 1]"
      ]
     },
     "metadata": {},
     "output_type": "display_data"
    }
   ],
   "source": [
    "show(P+C*Q)"
   ]
  },
  {
   "cell_type": "code",
   "execution_count": 51,
   "metadata": {},
   "outputs": [
    {
     "data": {
      "text/html": [
       "<html><script type=\"math/tex; mode=display\">\\newcommand{\\Bold}[1]{\\mathbf{#1}}\\left(\\begin{array}{rrrr}\n",
       "c_{0} & c_{1} & -\\frac{3}{5} c_{0} - \\frac{2}{5} c_{1} + \\frac{7}{5} & \\frac{1}{5} c_{0} - \\frac{1}{5} c_{1} - \\frac{9}{5} \\\\\n",
       "c_{2} & c_{3} & -\\frac{3}{5} c_{2} - \\frac{2}{5} c_{3} - \\frac{1}{5} & \\frac{1}{5} c_{2} - \\frac{1}{5} c_{3} + \\frac{2}{5}\n",
       "\\end{array}\\right)</script></html>"
      ],
      "text/plain": [
       "[                    c0                     c1 -3/5*c0 - 2/5*c1 + 7/5  1/5*c0 - 1/5*c1 - 9/5]\n",
       "[                    c2                     c3 -3/5*c2 - 2/5*c3 - 1/5  1/5*c2 - 1/5*c3 + 2/5]"
      ]
     },
     "metadata": {},
     "output_type": "display_data"
    },
    {
     "data": {
      "text/html": [
       "<html><script type=\"math/tex; mode=display\">\\newcommand{\\Bold}[1]{\\mathbf{#1}}\\left(\\begin{array}{rr}\n",
       "1 & 0 \\\\\n",
       "0 & 1\n",
       "\\end{array}\\right)</script></html>"
      ],
      "text/plain": [
       "[1 0]\n",
       "[0 1]"
      ]
     },
     "metadata": {},
     "output_type": "display_data"
    }
   ],
   "source": [
    "B = matrix(QQ,4,2,[1,4,1,5,2,9,1,7])\n",
    "BB = block_matrix(1,2,[B,1])\n",
    "M = copy(BB.echelon_form())\n",
    "M.subdivide([2],[2])\n",
    "P = M.subdivision(0,1)\n",
    "Q = M.subdivision(1,1)\n",
    "R = PolynomialRing(QQ,4,\"c\")\n",
    "C = matrix(2,2,R.gens())\n",
    "show(P+C*Q)\n",
    "show((P+C*Q)*B)"
   ]
  },
  {
   "cell_type": "code",
   "execution_count": 60,
   "metadata": {},
   "outputs": [
    {
     "data": {
      "text/html": [
       "<html><script type=\"math/tex; mode=display\">\\newcommand{\\Bold}[1]{\\mathbf{#1}}\\left(\\begin{array}{rr}\n",
       "1 & 0 \\\\\n",
       "0 & 1\n",
       "\\end{array}\\right)</script></html>"
      ],
      "text/plain": [
       "[1 0]\n",
       "[0 1]"
      ]
     },
     "metadata": {},
     "output_type": "display_data"
    }
   ],
   "source": [
    "A = matrix(QQ,2,4,[1,0,1,-1,0,1,4,3])\n",
    "BB = block_matrix(1,2,[A.T,1])\n",
    "M = copy(BB.echelon_form())\n",
    "M.subdivide([2],[2])\n",
    "P = M.subdivision(0,1)\n",
    "Q = M.subdivision(1,1)\n",
    "R = PolynomialRing(QQ,4,\"c\")\n",
    "C = matrix(2,2,R.gens())\n",
    "H = (P+C*Q).T\n",
    "show(A*H)"
   ]
  },
  {
   "cell_type": "code",
   "execution_count": null,
   "metadata": {},
   "outputs": [],
   "source": []
  }
 ],
 "metadata": {
  "kernelspec": {
   "display_name": "SageMath 9.1",
   "language": "sage",
   "name": "sagemath"
  },
  "language_info": {
   "codemirror_mode": {
    "name": "ipython",
    "version": 3
   },
   "file_extension": ".py",
   "mimetype": "text/x-python",
   "name": "python",
   "nbconvert_exporter": "python",
   "pygments_lexer": "ipython3",
   "version": "3.7.3"
  }
 },
 "nbformat": 4,
 "nbformat_minor": 2
}
