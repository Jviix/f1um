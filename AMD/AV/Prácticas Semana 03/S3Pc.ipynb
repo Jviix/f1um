{
 "cells": [
  {
   "cell_type": "code",
   "execution_count": 5,
   "metadata": {},
   "outputs": [],
   "source": [
    "n = 1357507575086659094285098826975586889475623536687995949189493\n",
    "d = 619564659328578668067833300480599438680736667593558730557717\n",
    "m = 1234567984762309485  # Poned aquí cualquier número que queráis más pequeño que n "
   ]
  },
  {
   "cell_type": "code",
   "execution_count": 8,
   "metadata": {},
   "outputs": [
    {
     "data": {
      "text/plain": [
       "1137622240376055106777599712257336189277938172192450973226708"
      ]
     },
     "execution_count": 8,
     "metadata": {},
     "output_type": "execute_result"
    }
   ],
   "source": [
    "u = Zmod(n)(m)**65537\n",
    "u"
   ]
  },
  {
   "cell_type": "code",
   "execution_count": 10,
   "metadata": {},
   "outputs": [
    {
     "data": {
      "text/plain": [
       "1234567984762309485"
      ]
     },
     "execution_count": 10,
     "metadata": {},
     "output_type": "execute_result"
    }
   ],
   "source": [
    "Zmod(n)(u)**d"
   ]
  },
  {
   "cell_type": "code",
   "execution_count": 11,
   "metadata": {},
   "outputs": [],
   "source": [
    "f = 1357507575086659094285098826973255505092422151853132911790348"
   ]
  },
  {
   "cell_type": "code",
   "execution_count": 12,
   "metadata": {},
   "outputs": [
    {
     "data": {
      "text/plain": [
       "1"
      ]
     },
     "execution_count": 12,
     "metadata": {},
     "output_type": "execute_result"
    }
   ],
   "source": [
    "(65537*d)%f"
   ]
  },
  {
   "cell_type": "code",
   "execution_count": 31,
   "metadata": {},
   "outputs": [
    {
     "data": {
      "text/plain": [
       "[1 0]\n",
       "[0 1]"
      ]
     },
     "execution_count": 31,
     "metadata": {},
     "output_type": "execute_result"
    }
   ],
   "source": [
    "B = matrix(QQ,4,2,[1,4,1,5,2,9,1,7])\n",
    "M = copy(block_matrix(1,2,[B,1]).echelon_form())\n",
    "M.subdivide([2],[2])\n",
    "P = M.subdivision(0,1)\n",
    "Q = M.subdivision(1,1)\n",
    "R = PolynomialRing(QQ,4,\"c\")\n",
    "C = matrix(R,2,2,R.gens())\n",
    "(P+C*Q)*B"
   ]
  },
  {
   "cell_type": "code",
   "execution_count": 42,
   "metadata": {},
   "outputs": [
    {
     "data": {
      "text/html": [
       "<html><script type=\"math/tex; mode=display\">\\newcommand{\\Bold}[1]{\\mathbf{#1}}\\left(\\begin{array}{rr|rrrr}\n",
       "1 & 0 & 0 & 0 & 4 & 4 \\\\\n",
       "0 & 1 & 0 & 0 & 3 & 2 \\\\\n",
       "\\hline\n",
       " 0 & 0 & 1 & 0 & 4 & 1 \\\\\n",
       "0 & 0 & 0 & 1 & 0 & 0\n",
       "\\end{array}\\right) \\left(\\begin{array}{rrrr}\n",
       "0 & 0 & 4 & 4 \\\\\n",
       "0 & 0 & 3 & 2\n",
       "\\end{array}\\right) \\left(\\begin{array}{rrrr}\n",
       "1 & 0 & 4 & 1 \\\\\n",
       "0 & 1 & 0 & 0\n",
       "\\end{array}\\right)</script></html>"
      ],
      "text/plain": [
       "[1 0|0 0 4 4]\n",
       "[0 1|0 0 3 2]\n",
       "[---+-------]\n",
       "[0 0|1 0 4 1]\n",
       "[0 0|0 1 0 0] [0 0 4 4]\n",
       "[0 0 3 2] [1 0 4 1]\n",
       "[0 1 0 0]"
      ]
     },
     "metadata": {},
     "output_type": "display_data"
    },
    {
     "data": {
      "text/html": [
       "<html><script type=\"math/tex; mode=display\">\\newcommand{\\Bold}[1]{\\mathbf{#1}}\\left(\\begin{array}{rr}\n",
       "c_{0} & c_{2} \\\\\n",
       "c_{1} & c_{3} \\\\\n",
       "-c_{0} + 4 & -c_{2} + 3 \\\\\n",
       "c_{0} + 4 & c_{2} + 2\n",
       "\\end{array}\\right)</script></html>"
      ],
      "text/plain": [
       "[      c0       c2]\n",
       "[      c1       c3]\n",
       "[4*c0 + 4 4*c2 + 3]\n",
       "[  c0 + 4   c2 + 2]"
      ]
     },
     "metadata": {},
     "output_type": "display_data"
    }
   ],
   "source": [
    "A = matrix(Zmod(5),2,4,[0,0,2,2,2,0,1,4])\n",
    "M = copy(block_matrix(1,2,[A.T,1]).echelon_form())\n",
    "M.subdivide([2],[2])\n",
    "P = M.subdivision(0,1)\n",
    "Q = M.subdivision(1,1)\n",
    "show(M,P,Q)\n",
    "R = PolynomialRing(Zmod(5),4,\"c\")\n",
    "C = matrix(R,2,2,R.gens())\n",
    "show((P+C*Q).T)"
   ]
  },
  {
   "cell_type": "code",
   "execution_count": 46,
   "metadata": {},
   "outputs": [
    {
     "data": {
      "text/plain": [
       "[1 4|0 0 2 0]\n",
       "[0 0|1 0 2 0]\n",
       "[0 0|0 1 0 0]\n",
       "[0 0|0 0 0 1]"
      ]
     },
     "execution_count": 46,
     "metadata": {},
     "output_type": "execute_result"
    }
   ],
   "source": [
    "A = matrix(Zmod(5),2,4,[4,0,3,0,1,0,2,0])\n",
    "block_matrix(1,2,[A.T,1]).echelon_form()"
   ]
  },
  {
   "cell_type": "code",
   "execution_count": 54,
   "metadata": {},
   "outputs": [
    {
     "data": {
      "text/html": [
       "<html><script type=\"math/tex; mode=display\">\\newcommand{\\Bold}[1]{\\mathbf{#1}}\\left(\\begin{array}{rr|rrr}\n",
       "1 & 0 & 0 & 2 & 3 \\\\\n",
       "0 & 1 & 0 & 4 & 2 \\\\\n",
       "\\hline\n",
       " 0 & 0 & 1 & 4 & 2\n",
       "\\end{array}\\right) \\left(\\begin{array}{rrr}\n",
       "0 & 2 & 3 \\\\\n",
       "0 & 4 & 2\n",
       "\\end{array}\\right) \\left(\\begin{array}{rrr}\n",
       "1 & 4 & 2\n",
       "\\end{array}\\right)</script></html>"
      ],
      "text/plain": [
       "[1 0|0 2 3]\n",
       "[0 1|0 4 2]\n",
       "[---+-----]\n",
       "[0 0|1 4 2] [0 2 3]\n",
       "[0 4 2] [1 4 2]"
      ]
     },
     "metadata": {},
     "output_type": "display_data"
    }
   ],
   "source": [
    "B = matrix(Zmod(5),3,2,[0,4,1,1,3,1])\n",
    "M = copy(block_matrix(1,2,[B,1]).echelon_form())\n",
    "M.subdivide([2],[2])\n",
    "P = M.subdivision(0,1)\n",
    "Q = M.subdivision(1,1)\n",
    "show(M,P,Q)"
   ]
  },
  {
   "cell_type": "code",
   "execution_count": null,
   "metadata": {},
   "outputs": [],
   "source": []
  }
 ],
 "metadata": {
  "kernelspec": {
   "display_name": "SageMath 9.1",
   "language": "sage",
   "name": "sagemath"
  },
  "language_info": {
   "codemirror_mode": {
    "name": "ipython",
    "version": 3
   },
   "file_extension": ".py",
   "mimetype": "text/x-python",
   "name": "python",
   "nbconvert_exporter": "python",
   "pygments_lexer": "ipython3",
   "version": "3.7.3"
  }
 },
 "nbformat": 4,
 "nbformat_minor": 2
}
